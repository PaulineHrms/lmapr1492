{
 "cells": [
  {
   "cell_type": "code",
   "execution_count": 1,
   "id": "derived-partner",
   "metadata": {},
   "outputs": [],
   "source": [
    "from pymatgen.ext.matproj import MPRester\n",
    "from pymatgen import Lattice, Structure\n",
    "from jupyter_jsmol.pymatgen import quick_view\n",
    "import numpy as np\n"
   ]
  },
  {
   "cell_type": "code",
   "execution_count": 2,
   "id": "actual-riverside",
   "metadata": {},
   "outputs": [],
   "source": [
    "with MPRester(\"P0mh8HMc3qiSX5g1\") as m:\n",
    "\n",
    "    # Structure for material id\n",
    "    structure = m.get_structure_by_material_id(\"mp-24504\")\n",
    "\n",
    "    # Dos for material id\n",
    "    dos = m.get_dos_by_material_id(\"mp-24504\")\n",
    "\n",
    "    # Bandstructure for material id\n",
    "    bandstructure = m.get_bandstructure_by_material_id(\"mp-24504\")\n",
    "    \n",
    "    data = m.get_data(\"mp-24504\")[0]\n",
    "    cif = data.get('cif')\n",
    "#print(data)"
   ]
  },
  {
   "cell_type": "code",
   "execution_count": 3,
   "id": "european-linux",
   "metadata": {
    "scrolled": false
   },
   "outputs": [
    {
     "data": {
      "application/vnd.jupyter.widget-view+json": {
       "model_id": "7360fed2925e4573aae6a1620335bfb2",
       "version_major": 2,
       "version_minor": 0
      },
      "text/plain": [
       "JsmolView(layout=Layout(align_self='stretch', height='400px'))"
      ]
     },
     "metadata": {},
     "output_type": "display_data"
    }
   ],
   "source": [
    "view = quick_view(structure, \"packed\")\n",
    "display(view)"
   ]
  },
  {
   "cell_type": "code",
   "execution_count": 4,
   "id": "golden-miracle",
   "metadata": {},
   "outputs": [
    {
     "name": "stdout",
     "output_type": "stream",
     "text": [
      "Les paramètres de maille sont (en ångström) : \n",
      "   a = 3.76195423\n",
      "   b = 3.76195423\n",
      "   c = 4.534819\n",
      "Les angles de la maille sont (en degrés) : \n",
      "   alpha = 90.0\n",
      "   beta = 90.0\n",
      "   gamma = 120.0\n"
     ]
    }
   ],
   "source": [
    "#Les paramètres de maille\n",
    "index_a = cif.find(\"_cell_length_a\")\n",
    "index_b = cif.find(\"_cell_length_b\")\n",
    "index_c = cif.find(\"_cell_length_c\")\n",
    "a = float(cif[index_a+17:index_a+27])\n",
    "b = float(cif[index_b+17:index_b+27])\n",
    "c = float(cif[index_c+17:index_c+27])\n",
    "print(\"Les paramètres de maille sont (en ångström) : \")\n",
    "print(\"   a = \" + str(a))\n",
    "print(\"   b = \" + str(b))\n",
    "print(\"   c = \" + str(c))\n",
    "\n",
    "index_alpha = cif.find(\"_cell_angle_alpha\")\n",
    "index_beta = cif.find(\"_cell_angle_beta\")\n",
    "index_gamma = cif.find(\"_cell_angle_gamma\")\n",
    "alpha = float(cif[index_alpha+17:index_alpha+27])\n",
    "beta = float(cif[index_beta+16:index_beta+26])\n",
    "gamma = float(cif[index_gamma+17:index_gamma+27])\n",
    "print(\"Les angles de la maille sont (en degrés) : \")\n",
    "print(\"   alpha = \" + str(alpha))\n",
    "print(\"   beta = \" + str(beta))\n",
    "print(\"   gamma = \"+ str(gamma))\n"
   ]
  },
  {
   "cell_type": "code",
   "execution_count": 5,
   "id": "finnish-membrane",
   "metadata": {},
   "outputs": [
    {
     "name": "stdout",
     "output_type": "stream",
     "text": [
      "Les vecteurs du réseaux direct sont : \n",
      "   vect_a = [3.76195423, 0.0, 0.0]\n",
      "   vect_b = [0.0, 3.76195423, 0.0]\n",
      "   vect_c = [0.0, 0.0, 4.534819]\n"
     ]
    }
   ],
   "source": [
    "#Les vecteurs de bases du réseau direct\n",
    "vect_a = [a,0.0,0.0]\n",
    "vect_b = [0.0,b,0.0]\n",
    "vect_c = [0.0,0.0,c]\n",
    "print(\"Les vecteurs du réseaux direct sont : \")\n",
    "print(\"   vect_a = \" +str(vect_a))\n",
    "print(\"   vect_b = \" +str(vect_b))\n",
    "print(\"   vect_c = \" +str(vect_c))"
   ]
  },
  {
   "cell_type": "code",
   "execution_count": 6,
   "id": "bound-above",
   "metadata": {},
   "outputs": [
    {
     "name": "stdout",
     "output_type": "stream",
     "text": [
      "Les vecteurs du réseaux réciproques sont :\n",
      "   a* = [1.67019185 0.         0.        ]\n",
      "   b* = [0.         1.67019185 0.        ]\n",
      "   c* = [0.         0.         1.38554269]\n"
     ]
    }
   ],
   "source": [
    "#Les vecteurs de base du réseau réciproque\n",
    "volume = np.vdot(vect_a,np.cross(vect_b,vect_c))\n",
    "vect_a_rec = (2*np.pi/volume)*(np.cross(vect_b,vect_c))\n",
    "vect_b_rec = (2*np.pi/volume)*(np.cross(vect_c,vect_a))\n",
    "vect_c_rec = (2*np.pi/volume)*(np.cross(vect_a,vect_b))\n",
    "\n",
    "print(\"Les vecteurs du réseaux réciproques sont :\")\n",
    "print(\"   a* = \"+ str(vect_a_rec))\n",
    "print(\"   b* = \"+ str(vect_b_rec))\n",
    "print(\"   c* = \"+ str(vect_c_rec))"
   ]
  },
  {
   "cell_type": "code",
   "execution_count": 22,
   "id": "hazardous-cattle",
   "metadata": {},
   "outputs": [
    {
     "name": "stdout",
     "output_type": "stream",
     "text": [
      "Le groupe spatial est  : P6_3/mmc\n",
      "Le groupe ponctuel est : 6/mmm\n"
     ]
    }
   ],
   "source": [
    "#Le groupe pponctuel et le groupe spatial\n",
    "gp_s = m.query(criteria={\"task_id\" : \"mp-24504\"}, properties=[\"spacegroup.symbol\"])\n",
    "gp_spatial = str(gp_s[0].get('spacegroup.symbol'))\n",
    "print(\"Le groupe spatial est  : \"+ gp_spatial)\n",
    "gp_p = m.query(criteria={\"task_id\" : \"mp-24504\"}, properties=[\"spacegroup.point_group\"])\n",
    "gp_ponctuel = str(gp_ponctuel[0].get('spacegroup.point_group'))\n",
    "print(\"Le groupe ponctuel est : \" + gp_ponctuel)\n"
   ]
  },
  {
   "cell_type": "code",
   "execution_count": 8,
   "id": "peripheral-involvement",
   "metadata": {},
   "outputs": [
    {
     "name": "stdout",
     "output_type": "stream",
     "text": [
      "Le système cristalin est : hexagonal\n"
     ]
    }
   ],
   "source": [
    "#Le système cristallin\n",
    "syst_crist = m.query(criteria={\"task_id\" : \"mp-24504\"}, properties=[\"crystal_system\"])\n",
    "print(\"Le système cristalin est : \"+ str(syst_crist[0].get('crystal_system')))"
   ]
  },
  {
   "cell_type": "code",
   "execution_count": 21,
   "id": "circular-helicopter",
   "metadata": {},
   "outputs": [
    {
     "name": "stdout",
     "output_type": "stream",
     "text": [
      "La maille du cristal est : primitive\n"
     ]
    }
   ],
   "source": [
    "# algorithme pour déterminer le type de maille à partir du groupe spatial\n",
    "if (gp_spatial[0] == \"P\"):\n",
    "    maille = \"primitive\"\n",
    "elif(gp_spatial[0] == \"I\"):\n",
    "    maille = \"centrée\"\n",
    "elif(gp_spatial[0] == \"F\"):\n",
    "    maille = \"faces centrées\"\n",
    "elif(gp_spatial[0] == \"A\"):\n",
    "    maille = \"face A centrée\"\n",
    "elif(gp_spatial[0] == \"B\"):\n",
    "    maille = \"face B centrée\"   \n",
    "elif(gp_spatial[0] == \"C\"):\n",
    "    maille = \"face C centrée\"\n",
    "elif(gp_spatial[0] == \"R\"):\n",
    "     maille = \"rhombohédrique\"\n",
    "    \n",
    "print(\"La maille du cristal est : \" + maille)\n"
   ]
  }
 ],
 "metadata": {
  "kernelspec": {
   "display_name": "Python 3",
   "language": "python",
   "name": "python3"
  },
  "language_info": {
   "codemirror_mode": {
    "name": "ipython",
    "version": 3
   },
   "file_extension": ".py",
   "mimetype": "text/x-python",
   "name": "python",
   "nbconvert_exporter": "python",
   "pygments_lexer": "ipython3",
   "version": "3.6.8"
  }
 },
 "nbformat": 4,
 "nbformat_minor": 5
}
